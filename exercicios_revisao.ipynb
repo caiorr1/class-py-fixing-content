{
 "cells": [
  {
   "attachments": {},
   "cell_type": "markdown",
   "id": "fc69b2e7",
   "metadata": {},
   "source": [
    "# Revisão Python: 0 to Hero"
   ]
  },
  {
   "attachments": {},
   "cell_type": "markdown",
   "id": "aee52bbd",
   "metadata": {},
   "source": [
    "### 1. Escreva um programa que verifica se um número é par ou ímpar."
   ]
  },
  {
   "cell_type": "code",
   "execution_count": 10,
   "id": "67c0ecd6",
   "metadata": {},
   "outputs": [
    {
     "name": "stdout",
     "output_type": "stream",
     "text": [
      "Impar\n"
     ]
    }
   ],
   "source": [
    "numero = float(input('Digite um número e descubra se ele é impar ou par.\\n'))\n",
    "if numero%2 == 0:\n",
    "    print(\"Par\")\n",
    "else:\n",
    "    print(\"Impar\")"
   ]
  },
  {
   "attachments": {},
   "cell_type": "markdown",
   "id": "80e5a468",
   "metadata": {},
   "source": [
    "### 2. Crie um programa que calcula a média de três números inseridos pelo usuário."
   ]
  },
  {
   "cell_type": "code",
   "execution_count": 2,
   "id": "936e37e8",
   "metadata": {},
   "outputs": [
    {
     "name": "stdout",
     "output_type": "stream",
     "text": [
      "A média entre os três números é 4.0\n"
     ]
    }
   ],
   "source": [
    "n1 = float(input('\\nDigite um número\\n'))\n",
    "n2 = float(input('\\nDigite outro número\\n'))\n",
    "n3 = float(input('\\nDigite o último número\\n'))\n",
    "media = n1 + n2 + n3/3\n",
    "print(f'A média entre os três números é {media}')"
   ]
  },
  {
   "attachments": {},
   "cell_type": "markdown",
   "id": "7e522a11",
   "metadata": {},
   "source": [
    "### 3. Faça um programa que imprime os números de 1 a 10 usando um loop for."
   ]
  },
  {
   "cell_type": "code",
   "execution_count": 5,
   "id": "cc7052c7",
   "metadata": {},
   "outputs": [
    {
     "name": "stdout",
     "output_type": "stream",
     "text": [
      "1\n",
      "2\n",
      "3\n",
      "4\n",
      "5\n",
      "6\n",
      "7\n",
      "8\n",
      "9\n",
      "10\n"
     ]
    }
   ],
   "source": [
    "for i in range(1,11):\n",
    "    print(i)"
   ]
  },
  {
   "attachments": {},
   "cell_type": "markdown",
   "id": "8eca9920",
   "metadata": {},
   "source": [
    "### 4. Escreva um programa que solicita ao usuário um número e imprime todos os números pares até ele."
   ]
  },
  {
   "cell_type": "code",
   "execution_count": 5,
   "id": "5625a3df",
   "metadata": {},
   "outputs": [
    {
     "name": "stdout",
     "output_type": "stream",
     "text": [
      "Entrada inválida. Por favor, digite um número inteiro positivo válido.\n",
      "0\n",
      "2\n",
      "4\n",
      "6\n",
      "8\n",
      "10\n"
     ]
    }
   ],
   "source": [
    "while True:\n",
    "    user_input = input('\\nDigite um número: ')\n",
    "    \n",
    "    \n",
    "    if user_input.isdigit():\n",
    "        user_number = int(user_input)\n",
    "        \n",
    "        for i in range(user_number):\n",
    "            if i % 2 == 0:\n",
    "                print(i)\n",
    "        \n",
    "        break \n",
    "    else:\n",
    "        print(\"Entrada inválida. Por favor, digite um número inteiro positivo válido.\")  "
   ]
  },
  {
   "attachments": {},
   "cell_type": "markdown",
   "id": "4973de60",
   "metadata": {},
   "source": [
    "### 5. Implemente um programa que imprime a série de Fibonacci até o décimo termo."
   ]
  },
  {
   "cell_type": "code",
   "execution_count": 4,
   "id": "592fad31",
   "metadata": {},
   "outputs": [
    {
     "name": "stdout",
     "output_type": "stream",
     "text": [
      "[0, 1, 1, 2, 3, 5, 8, 13, 21, 34, 55, 89]\n"
     ]
    }
   ],
   "source": [
    "def fibonacci(n):\n",
    "    fib_sequence = [0, 1]\n",
    "    for i in range(2, n):\n",
    "        next_fib = fib_sequence[i-1] + fib_sequence[i-2]\n",
    "        fib_sequence.append(next_fib)\n",
    "    return fib_sequence\n",
    "\n",
    "n = 12  \n",
    "fib_numbers = fibonacci(n)\n",
    "print(fib_numbers)"
   ]
  },
  {
   "attachments": {},
   "cell_type": "markdown",
   "id": "71258b84",
   "metadata": {},
   "source": [
    "### 6. Crie um programa que calcule a soma dos números de 1 a 100 usando um loop while."
   ]
  },
  {
   "cell_type": "code",
   "execution_count": 1,
   "id": "227f16c3",
   "metadata": {},
   "outputs": [
    {
     "name": "stdout",
     "output_type": "stream",
     "text": [
      "0\n",
      "1\n",
      "2\n",
      "3\n",
      "4\n",
      "5\n",
      "6\n",
      "7\n",
      "8\n",
      "9\n",
      "10\n",
      "11\n",
      "12\n",
      "13\n",
      "14\n",
      "15\n",
      "16\n",
      "17\n",
      "18\n",
      "19\n",
      "20\n",
      "21\n",
      "22\n",
      "23\n",
      "24\n",
      "25\n",
      "26\n",
      "27\n",
      "28\n",
      "29\n",
      "30\n",
      "31\n",
      "32\n",
      "33\n",
      "34\n",
      "35\n",
      "36\n",
      "37\n",
      "38\n",
      "39\n",
      "40\n",
      "41\n",
      "42\n",
      "43\n",
      "44\n",
      "45\n",
      "46\n",
      "47\n",
      "48\n",
      "49\n",
      "50\n",
      "51\n",
      "52\n",
      "53\n",
      "54\n",
      "55\n",
      "56\n",
      "57\n",
      "58\n",
      "59\n",
      "60\n",
      "61\n",
      "62\n",
      "63\n",
      "64\n",
      "65\n",
      "66\n",
      "67\n",
      "68\n",
      "69\n",
      "70\n",
      "71\n",
      "72\n",
      "73\n",
      "74\n",
      "75\n",
      "76\n",
      "77\n",
      "78\n",
      "79\n",
      "80\n",
      "81\n",
      "82\n",
      "83\n",
      "84\n",
      "85\n",
      "86\n",
      "87\n",
      "88\n",
      "89\n",
      "90\n",
      "91\n",
      "92\n",
      "93\n",
      "94\n",
      "95\n",
      "96\n",
      "97\n",
      "98\n",
      "99\n"
     ]
    }
   ],
   "source": [
    "num = 100\n",
    "i = 0\n",
    "while i < num:\n",
    "    print(i)\n",
    "    i+= 1"
   ]
  },
  {
   "attachments": {},
   "cell_type": "markdown",
   "id": "5a5585e3",
   "metadata": {},
   "source": [
    "### 7. Faça um programa que peça ao usuário um número e verifique se é positivo, negativo ou zero."
   ]
  },
  {
   "cell_type": "code",
   "execution_count": null,
   "id": "1bc8cbaf",
   "metadata": {},
   "outputs": [],
   "source": [
    "while True:\n",
    "    try:\n",
    "        number = float(input('Digite um número: '))\n",
    "        \n",
    "        result = (\"Positivo\" if number > 0 else \"Zero\") if number == 0 else \"Negativo\"\n",
    "        print(\"O número é:\", result)\n",
    "        \n",
    "        break  \n",
    "    \n",
    "    except ValueError:\n",
    "        print(\"Entrada inválida. Por favor, digite um número válido.\")"
   ]
  },
  {
   "attachments": {},
   "cell_type": "markdown",
   "id": "3bf80b33",
   "metadata": {},
   "source": [
    "### 8. Escreva um programa que imprime os múltiplos de 3 de 1 a 50."
   ]
  },
  {
   "cell_type": "code",
   "execution_count": 4,
   "id": "ea17d1d5",
   "metadata": {},
   "outputs": [
    {
     "name": "stdout",
     "output_type": "stream",
     "text": [
      "0\n",
      "3\n",
      "6\n",
      "9\n",
      "12\n",
      "15\n",
      "18\n",
      "21\n",
      "24\n",
      "27\n",
      "30\n",
      "33\n",
      "36\n",
      "39\n",
      "42\n",
      "45\n",
      "48\n"
     ]
    }
   ],
   "source": [
    "for i in range(50):\n",
    "    if i%3 == 0:\n",
    "        print(i)"
   ]
  },
  {
   "attachments": {},
   "cell_type": "markdown",
   "id": "90254ea1",
   "metadata": {},
   "source": [
    "### 9. Crie um programa que calcule a potência de um número informado pelo usuário usando um loop for."
   ]
  },
  {
   "cell_type": "code",
   "execution_count": 6,
   "id": "6c904953",
   "metadata": {},
   "outputs": [
    {
     "name": "stdout",
     "output_type": "stream",
     "text": [
      "5.0 elevado a 123 é igual a 9.403954806578305e+85\n"
     ]
    }
   ],
   "source": [
    "base = float(input(\"Digite a base: \"))\n",
    "expoente = int(input(\"Digite o expoente: \"))\n",
    "resultado = 1\n",
    "\n",
    "for _ in range(expoente):\n",
    "    resultado *= base\n",
    "\n",
    "print(f\"{base} elevado a {expoente} é igual a {resultado}\")"
   ]
  },
  {
   "attachments": {},
   "cell_type": "markdown",
   "id": "0ebc184f",
   "metadata": {},
   "source": [
    "### 10. Crie um programa que calcule o fatorial de um número inserido pelo usuário."
   ]
  },
  {
   "cell_type": "code",
   "execution_count": 13,
   "id": "f6434d2f",
   "metadata": {},
   "outputs": [
    {
     "name": "stdout",
     "output_type": "stream",
     "text": [
      "O fatorial de 3 é 6\n"
     ]
    }
   ],
   "source": [
    "def calcular_fatorial(numero):\n",
    "    if numero == 0 or numero == 1:\n",
    "        return 1\n",
    "    else:\n",
    "        fatorial = 1\n",
    "        for i in range(2, numero + 1):\n",
    "            fatorial *= i\n",
    "        return fatorial\n",
    "   \n",
    "try:\n",
    "    numero_inserido = int(input(\"Digite um número para calcular o fatorial: \"))\n",
    "    if numero_inserido < 0:\n",
    "        print(\"O fatorial não está definido para números negativos.\")\n",
    "    else:\n",
    "        resultado = calcular_fatorial(numero_inserido)\n",
    "        print(f\"O fatorial de {numero_inserido} é {resultado}\")\n",
    "except ValueError:\n",
    "    print(\"Por favor, insira um número inteiro válido.\")"
   ]
  },
  {
   "attachments": {},
   "cell_type": "markdown",
   "id": "33a4a4df",
   "metadata": {},
   "source": [
    "### 11. Crie um programa que leia um arquivo de texto e conte quantas palavras ele contém."
   ]
  },
  {
   "cell_type": "code",
   "execution_count": 17,
   "id": "50a69f2d",
   "metadata": {},
   "outputs": [
    {
     "name": "stdout",
     "output_type": "stream",
     "text": [
      "15\n"
     ]
    }
   ],
   "source": [
    "num_of_worlds = 0\n",
    "with open(r'sla.txt', 'r') as file:\n",
    "    data = file.read()\n",
    "    lines = data.split()\n",
    "    num_of_worlds += len(lines)\n",
    "    print(num_of_worlds)"
   ]
  },
  {
   "attachments": {},
   "cell_type": "markdown",
   "id": "ed0ef4f6",
   "metadata": {},
   "source": [
    "### 12. Escreva um programa que leia um arquivo e imprima o conteúdo em ordem reversa."
   ]
  },
  {
   "cell_type": "code",
   "execution_count": 8,
   "id": "0a83099a",
   "metadata": {},
   "outputs": [
    {
     "name": "stdout",
     "output_type": "stream",
     "text": [
      "Conteúdo do arquivo em ordem reversa:\n",
      "\n",
      "It was popularised in the 1960s with the release of Letraset sheets containing Lorem Ipsum passages, and more recently with desktop publishing software like Aldus PageMaker including versions of Lorem Ipsum.\n",
      "It has survived not only five centuries, but also the leap into electronic typesetting, remaining essentially unchanged.\n",
      "when an unknown printer took a galley of type and scrambled it to make a type specimen book.\n",
      "Lorem Ipsum has been the industry's standard dummy text ever since the 1500s,\n",
      "Lorem Ipsum is simply dummy text of the printing and typesetting industry.\n"
     ]
    }
   ],
   "source": [
    "with open(r'sla.txt', 'r') as file:\n",
    "    linhas = file.readlines()\n",
    "    linhas_reversas = reversed(linhas)\n",
    "\n",
    "    print(\"Conteúdo do arquivo em ordem reversa:\")\n",
    "    for linha in linhas_reversas:\n",
    "            print(linha.strip())\n"
   ]
  },
  {
   "attachments": {},
   "cell_type": "markdown",
   "id": "8e04e548",
   "metadata": {},
   "source": [
    "### 13. Faça um programa que copie o conteúdo de um arquivo para outro, ao contrário."
   ]
  },
  {
   "cell_type": "code",
   "execution_count": null,
   "id": "d0794a5f",
   "metadata": {},
   "outputs": [],
   "source": []
  },
  {
   "attachments": {},
   "cell_type": "markdown",
   "id": "78bee628",
   "metadata": {},
   "source": [
    "### 14. Implemente um programa que conte quantas vezes uma determinada palavra aparece em um arquivo."
   ]
  },
  {
   "cell_type": "code",
   "execution_count": null,
   "id": "e37a9e76",
   "metadata": {},
   "outputs": [],
   "source": []
  },
  {
   "attachments": {},
   "cell_type": "markdown",
   "id": "cd22e303",
   "metadata": {},
   "source": [
    "### 15. Escreva um programa que renomeie um arquivo."
   ]
  },
  {
   "cell_type": "code",
   "execution_count": null,
   "id": "3c65cc6e",
   "metadata": {},
   "outputs": [],
   "source": []
  },
  {
   "attachments": {},
   "cell_type": "markdown",
   "id": "122b4bdc",
   "metadata": {},
   "source": [
    "### 16. Implemente um programa que crie um novo diretório e mova para lá todos os arquivos da pasta atual que possuem a extensão especificada pelo usuário."
   ]
  },
  {
   "cell_type": "code",
   "execution_count": null,
   "id": "934aa42b",
   "metadata": {},
   "outputs": [],
   "source": []
  },
  {
   "attachments": {},
   "cell_type": "markdown",
   "id": "bd852d75",
   "metadata": {},
   "source": [
    "### 17. Crie um programa que compare dois arquivos informados pelo usuário e imprima as linhas em que eles diferem."
   ]
  },
  {
   "cell_type": "code",
   "execution_count": null,
   "id": "7122c082",
   "metadata": {},
   "outputs": [],
   "source": []
  },
  {
   "attachments": {},
   "cell_type": "markdown",
   "id": "b5175bdb",
   "metadata": {},
   "source": [
    "### 18. Crie uma função que verifique se um número é primo e retorne \"Verdadeiro\" ou \"Falso\"."
   ]
  },
  {
   "cell_type": "code",
   "execution_count": null,
   "id": "7fb5a745",
   "metadata": {},
   "outputs": [],
   "source": []
  },
  {
   "attachments": {},
   "cell_type": "markdown",
   "id": "4c91807e",
   "metadata": {},
   "source": [
    "### 19. Implemente uma função que retorne o máximo de três números."
   ]
  },
  {
   "cell_type": "code",
   "execution_count": null,
   "id": "eccdbe16",
   "metadata": {},
   "outputs": [],
   "source": []
  },
  {
   "attachments": {},
   "cell_type": "markdown",
   "id": "7467f86e",
   "metadata": {},
   "source": [
    "### 20. Escreva uma função que inverta uma string e retorne o resultado."
   ]
  },
  {
   "cell_type": "code",
   "execution_count": null,
   "id": "56806e38",
   "metadata": {},
   "outputs": [],
   "source": []
  },
  {
   "attachments": {},
   "cell_type": "markdown",
   "id": "71c512b9",
   "metadata": {},
   "source": [
    "### 21. Faça uma função que receba uma lista de números e retorne a soma deles."
   ]
  },
  {
   "cell_type": "code",
   "execution_count": null,
   "id": "828d81db",
   "metadata": {},
   "outputs": [],
   "source": []
  },
  {
   "attachments": {},
   "cell_type": "markdown",
   "id": "78fea6ab",
   "metadata": {},
   "source": [
    "### 22. Crie uma função que verifique se uma string é um palíndromo."
   ]
  },
  {
   "cell_type": "code",
   "execution_count": null,
   "id": "a0a9fcab",
   "metadata": {},
   "outputs": [],
   "source": []
  },
  {
   "attachments": {},
   "cell_type": "markdown",
   "id": "63b37936",
   "metadata": {},
   "source": [
    "### 23. Faça uma função que retorne uma lista de todos os divisores inteiros de um número."
   ]
  },
  {
   "cell_type": "code",
   "execution_count": null,
   "id": "ecab0a50",
   "metadata": {},
   "outputs": [],
   "source": []
  },
  {
   "attachments": {},
   "cell_type": "markdown",
   "id": "123a8e4c",
   "metadata": {},
   "source": [
    "### 24. Crie uma função que converta temperatura em Celsius para Fahrenheit."
   ]
  },
  {
   "cell_type": "code",
   "execution_count": null,
   "id": "4a6f6ce8",
   "metadata": {},
   "outputs": [],
   "source": []
  },
  {
   "attachments": {},
   "cell_type": "markdown",
   "id": "cfb80368",
   "metadata": {},
   "source": [
    "### 25. Crie um programa que simule um jogo de adivinhação. O programa escolherá um número aleatório entre 1 e 100, e o usuário terá que adivinhar qual é o número. O programa deve fornecer dicas se o palpite do usuário for muito alto ou muito baixo."
   ]
  },
  {
   "cell_type": "code",
   "execution_count": null,
   "id": "f9a549d4",
   "metadata": {},
   "outputs": [],
   "source": []
  },
  {
   "attachments": {},
   "cell_type": "markdown",
   "id": "a3854759",
   "metadata": {},
   "source": [
    "### 26. Implemente um programa que calcule a soma dos dígitos de um número inteiro inserido pelo usuário. Por exemplo, se o número for 123, a saída deve ser 6 (1 + 2 + 3)."
   ]
  },
  {
   "cell_type": "code",
   "execution_count": null,
   "id": "ca7d8109",
   "metadata": {},
   "outputs": [],
   "source": []
  },
  {
   "attachments": {},
   "cell_type": "markdown",
   "id": "08190ebd",
   "metadata": {},
   "source": [
    "### 27. Faça um programa que receba um número inteiro e exiba a tabuada desse número, de 1 a 10."
   ]
  },
  {
   "cell_type": "code",
   "execution_count": null,
   "id": "9df62c18",
   "metadata": {},
   "outputs": [],
   "source": []
  },
  {
   "attachments": {},
   "cell_type": "markdown",
   "id": "52d5b303",
   "metadata": {},
   "source": [
    "### 28. Faça um programa que leia um número inteiro positivo e exiba todos os números primos até esse número."
   ]
  },
  {
   "cell_type": "code",
   "execution_count": null,
   "id": "bf60757a",
   "metadata": {},
   "outputs": [],
   "source": []
  },
  {
   "attachments": {},
   "cell_type": "markdown",
   "id": "67a2b35d",
   "metadata": {},
   "source": [
    "### 29. Escreva um programa que calcule a sequência de Collatz para um número inserido pelo usuário e exiba cada iteração na tela. A sequência de Collatz é gerada da seguinte forma: se o número for par, divida-o por 2; se for ímpar, multiplique-o por 3 e adicione 1. Repita o processo até chegar ao número 1."
   ]
  },
  {
   "cell_type": "code",
   "execution_count": null,
   "id": "ea856138",
   "metadata": {},
   "outputs": [],
   "source": []
  },
  {
   "attachments": {},
   "cell_type": "markdown",
   "id": "a5bc9f5c",
   "metadata": {},
   "source": [
    "### 30. Faça um programa que leia um arquivo de texto e crie um novo arquivo com todas as palavras em ordem alfabética."
   ]
  },
  {
   "cell_type": "code",
   "execution_count": null,
   "id": "3c6c83d4",
   "metadata": {},
   "outputs": [],
   "source": []
  },
  {
   "attachments": {},
   "cell_type": "markdown",
   "id": "6927e844",
   "metadata": {},
   "source": [
    "### 31. Faça um programa que leia um arquivo de texto e substitua todas as ocorrências de uma determinada palavra por outra palavra inserida pelo usuário."
   ]
  },
  {
   "cell_type": "code",
   "execution_count": null,
   "id": "d06180f6",
   "metadata": {},
   "outputs": [],
   "source": []
  },
  {
   "attachments": {},
   "cell_type": "markdown",
   "id": "98a4e597",
   "metadata": {},
   "source": [
    "### 32. Escreva um programa que leia um arquivo de texto contendo linhas de código em Python e identifique todas as funções definidas no arquivo, exibindo seus nomes."
   ]
  },
  {
   "cell_type": "code",
   "execution_count": null,
   "id": "ba637a08",
   "metadata": {},
   "outputs": [],
   "source": []
  },
  {
   "attachments": {},
   "cell_type": "markdown",
   "id": "5e7c9ef0",
   "metadata": {},
   "source": [
    "### 33. Crie uma função que calcule o n-ésimo termo da sequência de Fibonacci."
   ]
  },
  {
   "cell_type": "code",
   "execution_count": null,
   "id": "69693973",
   "metadata": {},
   "outputs": [],
   "source": []
  },
  {
   "attachments": {},
   "cell_type": "markdown",
   "id": "8c24c1d4",
   "metadata": {},
   "source": [
    "### 34. Crie uma função que calcule o Máximo Divisor Comum (MDC) de dois números usando o algoritmo de Euclides."
   ]
  },
  {
   "cell_type": "code",
   "execution_count": null,
   "id": "5ed64791",
   "metadata": {},
   "outputs": [],
   "source": []
  },
  {
   "attachments": {},
   "cell_type": "markdown",
   "id": "1af58d9b",
   "metadata": {},
   "source": [
    "### 35. Escreva uma função que verifique se um número é um quadrado perfeito e retorne \"SIM\" ou \"NÃO\"."
   ]
  },
  {
   "cell_type": "code",
   "execution_count": null,
   "id": "eb86feec",
   "metadata": {},
   "outputs": [],
   "source": []
  },
  {
   "attachments": {},
   "cell_type": "markdown",
   "id": "60b2e40d",
   "metadata": {},
   "source": [
    "### 36. Crie uma função que receba uma lista de palavras e retorne a palavra mais longa."
   ]
  },
  {
   "cell_type": "code",
   "execution_count": null,
   "id": "08442235",
   "metadata": {},
   "outputs": [],
   "source": []
  },
  {
   "attachments": {},
   "cell_type": "markdown",
   "id": "a94d8ddf",
   "metadata": {},
   "source": [
    "### 37. Crie um programa que simule o jogo \"Pedra, Papel e Tesoura\". O usuário escolhe uma das opções, o computador sorteia outra e o programa determina o vencedor."
   ]
  },
  {
   "cell_type": "code",
   "execution_count": null,
   "id": "5363f8ed",
   "metadata": {},
   "outputs": [],
   "source": []
  },
  {
   "attachments": {},
   "cell_type": "markdown",
   "id": "525ca830",
   "metadata": {},
   "source": [
    "### 38. Implemente um programa que calcule o valor aproximado de π usando a fórmula de Leibniz. *"
   ]
  },
  {
   "cell_type": "code",
   "execution_count": null,
   "id": "068560b9",
   "metadata": {},
   "outputs": [],
   "source": []
  },
  {
   "attachments": {},
   "cell_type": "markdown",
   "id": "810062d3",
   "metadata": {},
   "source": [
    "### 39. Crie um programa que gere uma lista de números primos usando a técnica do Crivo de Eratóstenes. *"
   ]
  },
  {
   "cell_type": "code",
   "execution_count": null,
   "id": "567a2aa1",
   "metadata": {},
   "outputs": [],
   "source": []
  },
  {
   "attachments": {},
   "cell_type": "markdown",
   "id": "88428a47",
   "metadata": {},
   "source": [
    "### 40. Escreva um programa que resolva a Torre de Hanoi para um número de discos inserido pelo usuário."
   ]
  },
  {
   "cell_type": "code",
   "execution_count": null,
   "id": "56651afe",
   "metadata": {},
   "outputs": [],
   "source": []
  },
  {
   "attachments": {},
   "cell_type": "markdown",
   "id": "da8dac8c",
   "metadata": {},
   "source": [
    "### 41. Escreva um programa que converta um número inteiro em sua representação binária usando um loop."
   ]
  },
  {
   "cell_type": "code",
   "execution_count": null,
   "id": "e4a5f80f",
   "metadata": {},
   "outputs": [],
   "source": []
  },
  {
   "attachments": {},
   "cell_type": "markdown",
   "id": "0690dc80",
   "metadata": {},
   "source": [
    "### 42. Implemente uma função que calcule a potência de um número usando recursão. A função deve aceitar dois argumentos: base e expoente."
   ]
  },
  {
   "cell_type": "code",
   "execution_count": null,
   "id": "c446d2a5",
   "metadata": {},
   "outputs": [],
   "source": []
  },
  {
   "attachments": {},
   "cell_type": "markdown",
   "id": "b470762f",
   "metadata": {},
   "source": [
    "### 43. Faça uma função que retorne uma lista contendo todos os números perfeitos em um intervalo dado. Um número perfeito é aquele cuja soma de seus divisores próprios é igual a ele mesmo."
   ]
  },
  {
   "cell_type": "code",
   "execution_count": null,
   "id": "7b21ecf4",
   "metadata": {},
   "outputs": [],
   "source": []
  },
  {
   "attachments": {},
   "cell_type": "markdown",
   "id": "c77182af",
   "metadata": {},
   "source": [
    "### 44. Implemente uma função que calcule a média móvel de uma lista de números para um dado tamanho de janela."
   ]
  },
  {
   "cell_type": "code",
   "execution_count": null,
   "id": "05e895f0",
   "metadata": {},
   "outputs": [],
   "source": []
  },
  {
   "attachments": {},
   "cell_type": "markdown",
   "id": "8c4b503c",
   "metadata": {},
   "source": [
    "### 45. Escreva uma função que gere todas as combinações possíveis de um conjunto de elementos dados."
   ]
  },
  {
   "cell_type": "code",
   "execution_count": null,
   "id": "a643fbb9",
   "metadata": {},
   "outputs": [],
   "source": []
  },
  {
   "attachments": {},
   "cell_type": "markdown",
   "id": "141ff228",
   "metadata": {},
   "source": [
    "### 46. Faça uma função que receba um número inteiro e retorne uma lista de seus dígitos em ordem inversa."
   ]
  },
  {
   "cell_type": "code",
   "execution_count": null,
   "id": "eaf3da97",
   "metadata": {},
   "outputs": [],
   "source": []
  },
  {
   "attachments": {},
   "cell_type": "markdown",
   "id": "2a9a965e",
   "metadata": {},
   "source": [
    "### 47. Implemente uma função que encontre o menor múltiplo comum (MMC) de dois números."
   ]
  },
  {
   "cell_type": "code",
   "execution_count": null,
   "id": "c31d717c",
   "metadata": {},
   "outputs": [],
   "source": []
  },
  {
   "attachments": {},
   "cell_type": "markdown",
   "id": "ddc7c00b",
   "metadata": {},
   "source": [
    "### 48. Crie uma função que calcule a raiz quadrada de um número usando o método de Newton-Raphson."
   ]
  },
  {
   "cell_type": "code",
   "execution_count": null,
   "id": "bc62dc6d",
   "metadata": {},
   "outputs": [],
   "source": []
  },
  {
   "attachments": {},
   "cell_type": "markdown",
   "id": "71fe1c3c",
   "metadata": {},
   "source": [
    "### 49. Você foi contratado para desenvolver um programa de controle de estoque para uma loja. O programa deve permitir ao usuário adicionar produtos ao estoque, realizar vendas e verificar o estoque atual. Cada produto possui um nome, preço unitário e quantidade em estoque.\n",
    "\n",
    "Seu programa deve ter as seguintes funcionalidades:\n",
    "\n",
    "a) Adicionar um produto ao estoque, solicitando ao usuário o nome, preço unitário e quantidade inicial.\n",
    "\n",
    "b) Realizar uma venda, solicitando ao usuário o nome do produto e a quantidade vendida. O programa deve verificar se há estoque suficiente e, se sim, calcular o total da venda e atualizar o estoque.\n",
    "\n",
    "c) Exibir o estoque atual, listando o nome, preço unitário e quantidade de cada produto."
   ]
  },
  {
   "cell_type": "code",
   "execution_count": null,
   "id": "54ca7c37",
   "metadata": {},
   "outputs": [],
   "source": []
  },
  {
   "attachments": {},
   "cell_type": "markdown",
   "id": "a156cb57",
   "metadata": {},
   "source": [
    "### 50. Você foi contratado para criar um sistema de gerenciamento de tarefas. O programa deve permitir que o usuário crie, visualize, marque como concluída e liste tarefas. Cada tarefa possui um título, uma descrição e um status (concluída ou não).\n",
    "\n",
    "Seu programa deve ter as seguintes funcionalidades:\n",
    "\n",
    "a) Adicionar uma nova tarefa à lista, solicitando ao usuário o título e a descrição.\n",
    "\n",
    "b) Marcar uma tarefa como concluída, exibindo a lista de tarefas e permitindo ao usuário escolher qual tarefa marcar.\n",
    "\n",
    "c) Exibir a lista de tarefas, mostrando o título e o status de cada uma.\n",
    "\n",
    "d) Listar apenas as tarefas concluídas.\n",
    "\n",
    "e) Listar apenas as tarefas não concluídas.\n",
    "\n",
    "Além disso, implemente uma função que calcule a porcentagem de tarefas concluídas em relação ao total de tarefas."
   ]
  },
  {
   "cell_type": "code",
   "execution_count": null,
   "id": "5e895786",
   "metadata": {},
   "outputs": [],
   "source": []
  }
 ],
 "metadata": {
  "kernelspec": {
   "display_name": "Python 3 (ipykernel)",
   "language": "python",
   "name": "python3"
  },
  "language_info": {
   "codemirror_mode": {
    "name": "ipython",
    "version": 3
   },
   "file_extension": ".py",
   "mimetype": "text/x-python",
   "name": "python",
   "nbconvert_exporter": "python",
   "pygments_lexer": "ipython3",
   "version": "3.11.4"
  }
 },
 "nbformat": 4,
 "nbformat_minor": 5
}
